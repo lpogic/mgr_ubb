{
 "cells": [
  {
   "cell_type": "markdown",
   "id": "148c1335-fae7-4516-9abd-9f2c88506bf3",
   "metadata": {},
   "source": [
    "# Uczenie ze wzmocnieniem"
   ]
  },
  {
   "cell_type": "code",
   "execution_count": 1,
   "id": "cc64eb47-836e-43ed-8945-727bd5fcf215",
   "metadata": {
    "scrolled": true
   },
   "outputs": [
    {
     "name": "stdout",
     "output_type": "stream",
     "text": [
      "FPS: 40.90463683234436\n",
      "Epizodów: 179\n"
     ]
    }
   ],
   "source": [
    "import gym\n",
    "import time\n",
    "\n",
    "env = gym.make(\"CartPole-v1\", render_mode=\"human\")\n",
    "obs, info = env.reset()\n",
    "\n",
    "start = time.time()\n",
    "steps = 0\n",
    "episodes = 0\n",
    "\n",
    "while steps < 4000:\n",
    "    action = env.action_space.sample()\n",
    "    obs, reward, terminated, truncated, info = env.step(action)\n",
    "    done = terminated or truncated\n",
    "\n",
    "    time.sleep(0.02)  # umożliwia płynne renderowanie na Windowsie\n",
    "    steps += 1\n",
    "\n",
    "    if done:\n",
    "        obs, info = env.reset()\n",
    "        episodes += 1\n",
    "\n",
    "end = time.time()\n",
    "print(\"FPS:\", steps / (end - start))\n",
    "print(\"Epizodów:\", episodes)\n"
   ]
  },
  {
   "cell_type": "markdown",
   "id": "d5d0457a-3ad5-4ae1-8f0b-665defaf79c3",
   "metadata": {},
   "source": [
    "## Implementacja Q-learningu na FrozenLake-v1"
   ]
  },
  {
   "cell_type": "code",
   "execution_count": 26,
   "id": "f7e3992e-560a-4ccc-99ea-7515facb341c",
   "metadata": {},
   "outputs": [],
   "source": [
    "import numpy as np\n",
    "import gym\n",
    "\n",
    "env = gym.make(\"FrozenLake-v1\", is_slippery=False, render_mode=\"rgb_array\")\n",
    "n_states = env.observation_space.n\n",
    "n_actions = env.action_space.n\n",
    "\n",
    "Q = np.zeros((n_states, n_actions))\n",
    "\n",
    "epsilon = 0.1\n",
    "alpha = 0.3\n",
    "gamma = 0.99\n",
    "episodes = 1000\n",
    "\n",
    "rewards = []\n",
    "\n",
    "for episode in range(episodes):\n",
    "    state, info = env.reset()\n",
    "    done = False\n",
    "    total_reward = 0\n",
    "    while not done:\n",
    "        if np.random.uniform(0, 1) < epsilon or np.max(Q[state]) <= 0:\n",
    "            action = env.action_space.sample()\n",
    "        else:\n",
    "            action = np.argmax(Q[state])\n",
    "\n",
    "        next_state, reward, terminated, truncated, info = env.step(action)\n",
    "        done = terminated or truncated\n",
    "\n",
    "        Q[state, action] = Q[state, action] + alpha * (\n",
    "            reward + gamma * np.max(Q[next_state]) - Q[state, action]\n",
    "        )\n",
    "        state = next_state\n",
    "        total_reward += reward\n",
    "\n",
    "    rewards.append(total_reward)"
   ]
  },
  {
   "cell_type": "markdown",
   "id": "9d5f6a58-08a1-4120-86ff-f9950d946531",
   "metadata": {},
   "source": [
    "## Ewaluacja"
   ]
  },
  {
   "cell_type": "code",
   "execution_count": 28,
   "id": "7b59b27b-e6d8-497b-82b7-644d5f5ee00d",
   "metadata": {},
   "outputs": [
    {
     "data": {
      "image/png": "[encoded data removed]",
      "text/plain": [
       "<Figure size 432x288 with 1 Axes>"
      ]
     },
     "metadata": {
      "needs_background": "light"
     },
     "output_type": "display_data"
    }
   ],
   "source": [
    "import matplotlib.pyplot as plt\n",
    "\n",
    "avg_rewards = [np.mean(rewards[i:i+100]) for i in range(0, episodes, 100)]\n",
    "plt.plot(avg_rewards)\n",
    "plt.xlabel(\"Kolejne setki epizodów\")\n",
    "plt.ylabel(\"Średnia nagroda\")\n",
    "plt.show()"
   ]
  },
  {
   "cell_type": "code",
   "execution_count": null,
   "id": "7aa733e0",
   "metadata": {},
   "outputs": [],
   "source": []
  }
 ],
 "metadata": {
  "kernelspec": {
   "display_name": "Python 3 (ipykernel)",
   "language": "python",
   "name": "python3"
  },
  "language_info": {
   "codemirror_mode": {
    "name": "ipython",
    "version": 3
   },
   "file_extension": ".py",
   "mimetype": "text/x-python",
   "name": "python",
   "nbconvert_exporter": "python",
   "pygments_lexer": "ipython3",
   "version": "3.10.12"
  }
 },
 "nbformat": 4,
 "nbformat_minor": 5
}
